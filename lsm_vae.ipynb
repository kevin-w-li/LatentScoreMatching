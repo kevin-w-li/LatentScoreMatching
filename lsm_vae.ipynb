{
 "cells": [
  {
   "cell_type": "markdown",
   "metadata": {},
   "source": [
    "### Notebook for training VAE models with variational SM"
   ]
  },
  {
   "cell_type": "code",
   "execution_count": 9,
   "metadata": {
    "scrolled": true
   },
   "outputs": [
    {
     "name": "stdout",
     "output_type": "stream",
     "text": [
      "The autoreload extension is already loaded. To reload it, use:\n",
      "  %reload_ext autoreload\n"
     ]
    }
   ],
   "source": [
    "%load_ext autoreload\n",
    "%autoreload 2"
   ]
  },
  {
   "cell_type": "code",
   "execution_count": 2,
   "metadata": {},
   "outputs": [
    {
     "data": {
      "text/plain": [
       "<torch._C.Generator at 0x7f412c1052b0>"
      ]
     },
     "execution_count": 2,
     "metadata": {},
     "output_type": "execute_result"
    }
   ],
   "source": [
    "import torch\n",
    "from torch.utils.data import TensorDataset, DataLoader\n",
    "from models.VAEs import AutoEncoder, EBM\n",
    "\n",
    "import matplotlib.pyplot as plt\n",
    "import tqdm.notebook as tqdm\n",
    "\n",
    "import torchvision\n",
    "from torchvision import datasets\n",
    "from torchvision import transforms\n",
    "from torchvision.utils import make_grid\n",
    "\n",
    "%matplotlib inline\n",
    "\n",
    "dtype = torch.float\n",
    "torch.set_default_dtype(dtype)\n",
    "\n",
    "# can change the dataset as wish\n",
    "# we pad zeros around the MNSIT and FashionMNIST images to make the size 32x32\n",
    "dataset = datasets.MNIST(root='../data', train=True, transform=torchvision.transforms.Compose([\n",
    "                                                               torchvision.transforms.Pad(2), \n",
    "                                                                transforms.ToTensor(),]), download=True)\n",
    "\n",
    "\n",
    "test_dataset = datasets.MNIST(root='../data', train=False, transform=torchvision.transforms.Compose([\n",
    "                                                               torchvision.transforms.Pad(2), \n",
    "                                                                transforms.ToTensor(),]), download=True)\n",
    "\n",
    "# assume there is GPU\n",
    "device=torch.device(\"cuda:0\")\n",
    "torch.random.manual_seed(1)"
   ]
  },
  {
   "cell_type": "markdown",
   "metadata": {},
   "source": [
    "## Choosing the objectives\n",
    "two types of objectives: \n",
    " * kl: conventional objective for ELBO\n",
    " * jf: joint Fisher divergence in Fisher autoencoder\n",
    "\n",
    "To combine the two inference (KL and FD) and three learning objectives (M1, M2 and M3) in the paper,\n",
    "specify the inference first ('kl' or 'jf'), followed by '-', and then the learning objective 'xf', 'mf' or 'bmf', respectively\n",
    "the example below specifies the FD for inference and M1 for learning"
   ]
  },
  {
   "cell_type": "code",
   "execution_count": null,
   "metadata": {},
   "outputs": [],
   "source": [
    "objective = 'jf-xf'"
   ]
  },
  {
   "cell_type": "code",
   "execution_count": 14,
   "metadata": {},
   "outputs": [],
   "source": [
    "import numpy as np\n",
    "import torch.nn as nn\n",
    "import torch.distributions as td\n",
    "import torch.nn.functional as F\n",
    "\n",
    "# number of channels\n",
    "nc = 1\n",
    "Dz = 100\n",
    "Dx = 32*32*nc\n",
    "Dh = 512\n",
    "lr = 1e-4\n",
    "\n",
    "# this is N in the paper, number of posterior samples to approximate expectations\n",
    "M = 5\n",
    "\n",
    "# layer type: 'conv' for DCGAN, 'resnet' for ResNet18 structure\n",
    "layer_type = 'conv'\n",
    " \n",
    "# score matching model\n",
    "model = AutoEncoder(Dz, Dh, Dx, nc = nc, M = M, layer_type=layer_type).to(device=device)\n",
    "dec_opt = torch.optim.Adam(list(model.decoder.parameters())+[model.logsigma], lr = lr)\n",
    "enc_opt = torch.optim.Adam(list(model.encoder.parameters()), lr = lr)\n",
    "\n",
    "enc_losses = []\n",
    "dec_losses = []\n",
    "ml_losses = []\n",
    "sm_losses = []\n",
    "\n",
    "errors = []"
   ]
  },
  {
   "cell_type": "code",
   "execution_count": null,
   "metadata": {},
   "outputs": [],
   "source": [
    "bs = 100\n",
    "K = 5\n",
    "N = 5\n",
    "\n",
    "data_loader = torch.utils.data.DataLoader(dataset, batch_size=bs, shuffle=True, num_workers=8)\n",
    "\n",
    "# only train for 50 epochs in the notebook example.\n",
    "for i in tqdm.tqdm(range(0, 50)):\n",
    "\n",
    "    sm_noise_std = 0.1\n",
    "\n",
    "    for idx, (images, _) in enumerate(tqdm.tqdm(data_loader, leave=False)):\n",
    "        \n",
    "        learning_step = idx % K == (K-1)\n",
    "            \n",
    "        images = torch.as_tensor(images).to(dtype)\n",
    "\n",
    "        #####  VAE  #####\n",
    "        clean_x = images.view(bs, -1).to(device)\n",
    "\n",
    "        if objective in [\"kl\", \"jf\"]:\n",
    "\n",
    "            if objective == \"kl\":\n",
    "                loss = model.ELBO(clean_x)\n",
    "            else:\n",
    "                loss = model.joint_score(clean_x, reparam=True)\n",
    "\n",
    "            enc_opt.zero_grad()\n",
    "            loss.backward(retain_graph=False)\n",
    "            enc_opt.step()\n",
    "\n",
    "            if learning_step:\n",
    "                if objective == \"kl\":\n",
    "                    loss = model.ELBO(clean_x)\n",
    "                else:\n",
    "                    loss = model.joint_score(clean_x)\n",
    "                dec_opt.zero_grad()\n",
    "                loss.backward(retain_graph=False)\n",
    "                dec_opt.step()\n",
    "\n",
    "        else:\n",
    "\n",
    "            i_obj, l_obj = objective.split('-')\n",
    "\n",
    "            if i_obj == \"kl\":\n",
    "                loss_z = model.ELBO(clean_x)\n",
    "            elif i_obj == \"jf\":\n",
    "                loss_z = model.score_z(clean_x)\n",
    "            else:\n",
    "                raise NameError('Please specify the correct inference objective')\n",
    "            enc_opt.zero_grad()\n",
    "            loss_z.backward()\n",
    "            enc_opt.step()\n",
    "\n",
    "            if learning_step:\n",
    "                if l_obj == \"xf\":\n",
    "                    loss_x = model.joint_score_x(clean_x)\n",
    "                elif l_obj == \"mf\":\n",
    "                    loss_x = model.marginal_score(clean_x)\n",
    "                elif l_obj == \"bmf\":\n",
    "                    loss_x = model.bad_marginal_score(clean_x)\n",
    "                else:\n",
    "                    raise NameError('Please specify the correct learning objective')\n",
    "\n",
    "                dec_opt.zero_grad()\n",
    "                loss_x.backward()\n",
    "                dec_opt.step()"
   ]
  },
  {
   "cell_type": "code",
   "execution_count": 21,
   "metadata": {},
   "outputs": [
    {
     "data": {
      "text/plain": [
       "<matplotlib.image.AxesImage at 0x7f40a827f6d0>"
      ]
     },
     "execution_count": 21,
     "metadata": {},
     "output_type": "execute_result"
    },
    {
     "data": {
      "image/png": "[encoded data removed]",
      "text/plain": [
       "<Figure size 432x288 with 1 Axes>"
      ]
     },
     "metadata": {
      "needs_background": "light"
     },
     "output_type": "display_data"
    }
   ],
   "source": [
    "## helper to conver tensor to concatenated images\n",
    "def tensor_to_image(x):\n",
    "    x = x[:25]\n",
    "    x = np.transpose(make_grid(x.reshape(x.shape[0],nc,32,32), nrow=5).cpu().detach().numpy(), [1,2,0])\n",
    "    return x\n",
    "\n",
    "z = model.prior.sample([25])\n",
    "im = tensor_to_image(model.decode(z).mean)\n",
    "plt.figure()\n",
    "plt.imshow(im)"
   ]
  }
 ],
 "metadata": {
  "kernelspec": {
   "display_name": "Python3.7 (lsm)",
   "language": "python",
   "name": "lsm"
  },
  "language_info": {
   "codemirror_mode": {
    "name": "ipython",
    "version": 3
   },
   "file_extension": ".py",
   "mimetype": "text/x-python",
   "name": "python",
   "nbconvert_exporter": "python",
   "pygments_lexer": "ipython3",
   "version": "3.7.10"
  }
 },
 "nbformat": 4,
 "nbformat_minor": 2
}
